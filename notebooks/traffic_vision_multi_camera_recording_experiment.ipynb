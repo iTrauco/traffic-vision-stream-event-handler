{
 "cells": [
  {
   "cell_type": "markdown",
   "id": "8e332e96-0acf-4a5f-a197-3cb1447aaf8f",
   "metadata": {},
   "source": [
    "# Traffic Vision: Multi-Camera Recording System\n",
    "\n",
    "## Objective\n",
    "Develop continuous multi-camera GDOT traffic stream recording for ML training data.\n",
    "\n",
    "## Technical Approach\n",
    "- Streamlink + FFmpeg pipeline\n",
    "- CSV-driven camera configuration\n",
    "- Parallel recording processes\n",
    "- Systemd service for 24/7 operation\n",
    "\n",
    "**Date:** June 8, 2025  \n",
    "**Branch:** `experiment/multi-camera-recording`"
   ]
  },
  {
   "cell_type": "code",
   "execution_count": 20,
   "id": "7b153f5c-244d-459b-9eb8-a4d6a3756649",
   "metadata": {},
   "outputs": [
    {
     "name": "stdout",
     "output_type": "stream",
     "text": [
      "cameras: 8\n",
      "columns: ['Date Added', 'Camera_ID', 'Location', 'Page', 'Stream_URL']\n",
      "   Date Added Camera_ID                               Location  Page  \\\n",
      "0  2025-04-11  ATL-0610         10th St at Monroe Dr (Atlanta)     6   \n",
      "1  2025-04-11  ATL-0972       Peachtree St at 5th St (Atlanta)    15   \n",
      "2  2025-04-11  ATL-1005      Peachtree St at 12th St (Atlanta)    15   \n",
      "3  2025-04-11  ATL-0907      Piedmont Ave at 14th St (Atlanta)    15   \n",
      "4  2025-04-11  ATL-0997  West Peachtree St at 5th St (Atlanta)    27   \n",
      "\n",
      "                                          Stream_URL  \n",
      "0  https://sfs-msc-pub-lq-01.navigator.dot.ga.gov...  \n",
      "1  https://sfs-msc-pub-lq-01.navigator.dot.ga.gov...  \n",
      "2  https://sfs-msc-pub-lq-01.navigator.dot.ga.gov...  \n",
      "3  https://sfs-msc-pub-lq-01.navigator.dot.ga.gov...  \n",
      "4  https://sfs-msc-pub-lq-01.navigator.dot.ga.gov...  \n"
     ]
    }
   ],
   "source": [
    "import pandas as pd\n",
    "\n",
    "# load camera data\n",
    "df = pd.read_csv('../data/gdot_midtown_atlanta_streams.csv')\n",
    "print(f\"cameras: {len(df)}\")\n",
    "print(f\"columns: {list(df.columns)}\")\n",
    "print(df.head())"
   ]
  },
  {
   "cell_type": "code",
   "execution_count": 21,
   "id": "72ac31c1-3bdc-4732-b0d3-9cca9e2f472f",
   "metadata": {},
   "outputs": [
    {
     "name": "stdout",
     "output_type": "stream",
     "text": [
      "recordings found: 4\n",
      "../sample_recordings/ATL-0972/ATL-0972_20250608_201300.mp4: 100,749 bytes, 16.5s, 480x270, 15.0fps\n",
      "../sample_recordings/ATL-0972/ATL-0972_20250608_202414.mp4: 129,784 bytes, 16.5s, 480x270, 15.0fps\n",
      "../sample_recordings/ATL-0610/ATL-0610_20250608_201300.mp4: 248,641 bytes, 20.7s, 480x270, 15.0fps\n"
     ]
    }
   ],
   "source": [
    "import subprocess\n",
    "import json\n",
    "import glob\n",
    "import os\n",
    "\n",
    "# analyze sample recordings\n",
    "recording_files = glob.glob('../sample_recordings/*/*.mp4')\n",
    "print(f\"recordings found: {len(recording_files)}\")\n",
    "\n",
    "for file in recording_files[:3]:\n",
    "    size = os.path.getsize(file)\n",
    "    \n",
    "    # get metadata\n",
    "    cmd = ['ffprobe', '-v', 'quiet', '-print_format', 'json', '-show_format', '-show_streams', file]\n",
    "    result = subprocess.run(cmd, capture_output=True, text=True)\n",
    "    \n",
    "    if result.returncode == 0:\n",
    "        data = json.loads(result.stdout)\n",
    "        duration = float(data['format']['duration'])\n",
    "        video_stream = next((s for s in data['streams'] if s['codec_type'] == 'video'), None)\n",
    "        \n",
    "        if video_stream:\n",
    "            fps_str = video_stream['r_frame_rate']\n",
    "            fps = float(fps_str.split('/')[0]) / float(fps_str.split('/')[1]) if '/' in fps_str else float(fps_str)\n",
    "            \n",
    "            print(f\"{file}: {size:,} bytes, {duration:.1f}s, {video_stream['width']}x{video_stream['height']}, {fps:.1f}fps\")"
   ]
  },
  {
   "cell_type": "markdown",
   "id": "92ed5579-00b9-4eda-91dc-5d507421fe62",
   "metadata": {},
   "source": [
    "## Results\n",
    "- 7 cameras recording simultaneously\n",
    "- 480x270 resolution, 15fps, h264 codec\n",
    "- 15-second test segments: ~100-250KB each\n",
    "- Deployed as systemd service on HPC workstation\n",
    "- Production uses 15-minute segments for training data\n",
    "\n",
    "## Architecture\n",
    "```mermaid\n",
    "graph TD\n",
    "    A[GDOT Cameras] --> B[HLS Streams]\n",
    "    B --> C[HPC Workstation]\n",
    "    C --> D[Parallel Recording]\n",
    "    D --> E[Local Storage]\n",
    "    E --> F[YOLO Training Data]"
   ]
  },
  {
   "cell_type": "code",
   "execution_count": null,
   "id": "62e5f65c-00dc-4c08-ab7e-6484fb253326",
   "metadata": {},
   "outputs": [],
   "source": []
  }
 ],
 "metadata": {
  "kernelspec": {
   "display_name": "Python 3 (ipykernel)",
   "language": "python",
   "name": "python3"
  },
  "language_info": {
   "codemirror_mode": {
    "name": "ipython",
    "version": 3
   },
   "file_extension": ".py",
   "mimetype": "text/x-python",
   "name": "python",
   "nbconvert_exporter": "python",
   "pygments_lexer": "ipython3",
   "version": "3.11.13"
  }
 },
 "nbformat": 4,
 "nbformat_minor": 5
}
