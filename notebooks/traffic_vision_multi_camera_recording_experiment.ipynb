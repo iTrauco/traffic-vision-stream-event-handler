{
 "cells": [
  {
   "cell_type": "markdown",
   "id": "8e332e96-0acf-4a5f-a197-3cb1447aaf8f",
   "metadata": {},
   "source": [
    "# Traffic Vision: Multi-Camera Recording System\n",
    "\n",
    "## Objective\n",
    "Develop a Linux system-level service for continuous multi-camera GDOT traffic stream recording.\n",
    "\n",
    "## Technical Approach\n",
    "- **System Level:** Bash scripts + systemd service for 24/7 operation\n",
    "- **Recording Method:** Streamlink + FFmpeg (Method 3 from validation tests)\n",
    "- **Data Source:** CSV file with camera definitions\n",
    "- **Storage Structure:** `recordings/CAMERA-ID/YYYY-MM-DD/CAMERA-ID_YYYYMMDD_HHMMSS.mp4`\n",
    "\n",
    "## Recording Configuration\n",
    "- **Development/Testing:** 15-second segments (for workflow demo, included in repo)\n",
    "- **Production Deployment:** 15-minute segments, 24/7 continuous on bare metal storage\n",
    "\n",
    "## Current Implementation\n",
    "- **Base Script:** `multi_camera_recorder.sh` (reads CSV, spawns parallel processes)\n",
    "- **Target:** 8 Atlanta midtown cameras simultaneous recording\n",
    "\n",
    "## Next Steps\n",
    "1. Validate CSV data loading and stream accessibility\n",
    "2. Test parallel recording with 2 cameras\n",
    "3. Scale to full 8-camera deployment\n",
    "4. Configure systemd service for continuous operation\n",
    "\n",
    "**Date:** June 8, 2025  \n",
    "**Branch:** `experiment/multi-camera-recording`"
   ]
  },
  {
   "cell_type": "code",
   "execution_count": 4,
   "id": "7b153f5c-244d-459b-9eb8-a4d6a3756649",
   "metadata": {},
   "outputs": [
    {
     "name": "stdout",
     "output_type": "stream",
     "text": [
      "current dir: /home/trauco/traffic-vision/notebooks\n",
      "files here: ['.ipynb_checkpoints', 'traffic_vision_multi_camera_recording_experiment.ipynb']\n",
      "dataset: 8 cameras\n",
      "columns: ['Date Added', 'Camera_ID', 'Location', 'Page', 'Stream_URL']\n",
      "\n",
      "first cameras:\n",
      "   Date Added Camera_ID                               Location  Page  \\\n",
      "0  2025-04-11  ATL-0610         10th St at Monroe Dr (Atlanta)     6   \n",
      "1  2025-04-11  ATL-0972       Peachtree St at 5th St (Atlanta)    15   \n",
      "2  2025-04-11  ATL-1005      Peachtree St at 12th St (Atlanta)    15   \n",
      "3  2025-04-11  ATL-0907      Piedmont Ave at 14th St (Atlanta)    15   \n",
      "4  2025-04-11  ATL-0997  West Peachtree St at 5th St (Atlanta)    27   \n",
      "\n",
      "                                          Stream_URL  \n",
      "0  https://sfs-msc-pub-lq-01.navigator.dot.ga.gov...  \n",
      "1  https://sfs-msc-pub-lq-01.navigator.dot.ga.gov...  \n",
      "2  https://sfs-msc-pub-lq-01.navigator.dot.ga.gov...  \n",
      "3  https://sfs-msc-pub-lq-01.navigator.dot.ga.gov...  \n",
      "4  https://sfs-msc-pub-lq-01.navigator.dot.ga.gov...  \n"
     ]
    }
   ],
   "source": [
    "import pandas as pd\n",
    "import os\n",
    "\n",
    "import os\n",
    "print(\"current dir:\", os.getcwd())\n",
    "print(\"files here:\", os.listdir('.'))\n",
    "\n",
    "# load csv data\n",
    "csv_file = '/home/trauco/traffic-vision/data/gdot_midtown_atlanta_streams.csv'\n",
    "df = pd.read_csv(csv_file)\n",
    "\n",
    "print(f\"dataset: {len(df)} cameras\")\n",
    "print(f\"columns: {list(df.columns)}\")\n",
    "print(\"\\nfirst cameras:\")\n",
    "print(df.head())"
   ]
  },
  {
   "cell_type": "code",
   "execution_count": 8,
   "id": "72ac31c1-3bdc-4732-b0d3-9cca9e2f472f",
   "metadata": {},
   "outputs": [
    {
     "name": "stdout",
     "output_type": "stream",
     "text": [
      "found 4 recordings\n",
      "\n",
      "/home/trauco/traffic-vision/recordings/ATL-0972/ATL-0972_20250608_201300.mp4:\n",
      "  size: 100,749 bytes (0.1MB)\n",
      "  duration: 16.5s\n",
      "  resolution: 480x270\n",
      "  fps: 15.0\n",
      "  codec: h264\n",
      "\n",
      "/home/trauco/traffic-vision/recordings/ATL-0972/ATL-0972_20250608_202414.mp4:\n",
      "  size: 129,784 bytes (0.1MB)\n",
      "  duration: 16.5s\n",
      "  resolution: 480x270\n",
      "  fps: 15.0\n",
      "  codec: h264\n",
      "\n",
      "/home/trauco/traffic-vision/recordings/ATL-0610/ATL-0610_20250608_201300.mp4:\n",
      "  size: 248,641 bytes (0.2MB)\n",
      "  duration: 20.7s\n",
      "  resolution: 480x270\n",
      "  fps: 15.0\n",
      "  codec: h264\n"
     ]
    }
   ],
   "source": [
    "import subprocess\n",
    "import json\n",
    "import glob\n",
    "\n",
    "# analyze recent recordings\n",
    "recording_files = glob.glob('/home/trauco/traffic-vision/recordings/*/*.mp4')\n",
    "\n",
    "print(f\"found {len(recording_files)} recordings\")\n",
    "\n",
    "for file in recording_files[:3]:  # check first 3\n",
    "    print(f\"\\n{file}:\")\n",
    "    \n",
    "    # get file size\n",
    "    size = os.path.getsize(file)\n",
    "    print(f\"  size: {size:,} bytes ({size/1024/1024:.1f}MB)\")\n",
    "    \n",
    "    # get video metadata with ffprobe\n",
    "    cmd = ['ffprobe', '-v', 'quiet', '-print_format', 'json', '-show_format', '-show_streams', file]\n",
    "    result = subprocess.run(cmd, capture_output=True, text=True)\n",
    "    \n",
    "    if result.returncode == 0:\n",
    "        data = json.loads(result.stdout)\n",
    "        duration = float(data['format']['duration'])\n",
    "        video_stream = next((s for s in data['streams'] if s['codec_type'] == 'video'), None)\n",
    "        \n",
    "        if video_stream:\n",
    "            fps = eval(video_stream['r_frame_rate'])\n",
    "            width = video_stream['width']\n",
    "            height = video_stream['height']\n",
    "            \n",
    "            print(f\"  duration: {duration:.1f}s\")\n",
    "            print(f\"  resolution: {width}x{height}\")\n",
    "            print(f\"  fps: {fps:.1f}\")\n",
    "            print(f\"  codec: {video_stream['codec_name']}\")"
   ]
  },
  {
   "cell_type": "markdown",
   "id": "92ed5579-00b9-4eda-91dc-5d507421fe62",
   "metadata": {},
   "source": [
    "## Recording Quality Analysis\n",
    "\n",
    "Test recordings from 2 cameras:\n",
    "\n",
    "**ATL-0972:**\n",
    "- 100,749 bytes (0.1MB), 16.5s, 480x270, 15.0 fps, h264\n",
    "- 129,784 bytes (0.1MB), 16.5s, 480x270, 15.0 fps, h264\n",
    "\n",
    "**ATL-0610:**\n",
    "- 248,641 bytes (0.2MB), 20.7s, 480x270, 15.0 fps, h264\n",
    "\n",
    "All recordings: 480x270 resolution, 15 fps, h264 codec"
   ]
  },
  {
   "cell_type": "code",
   "execution_count": null,
   "id": "bd9c3472-3810-4053-9f9f-eeff25a2b75e",
   "metadata": {},
   "outputs": [],
   "source": []
  }
 ],
 "metadata": {
  "kernelspec": {
   "display_name": "Python 3 (ipykernel)",
   "language": "python",
   "name": "python3"
  },
  "language_info": {
   "codemirror_mode": {
    "name": "ipython",
    "version": 3
   },
   "file_extension": ".py",
   "mimetype": "text/x-python",
   "name": "python",
   "nbconvert_exporter": "python",
   "pygments_lexer": "ipython3",
   "version": "3.11.13"
  }
 },
 "nbformat": 4,
 "nbformat_minor": 5
}
